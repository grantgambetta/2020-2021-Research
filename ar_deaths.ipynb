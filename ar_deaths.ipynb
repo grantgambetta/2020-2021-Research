{
 "cells": [
  {
   "cell_type": "code",
   "execution_count": 1,
   "metadata": {},
   "outputs": [],
   "source": [
    "import pandas as pd\n",
    "import numpy as np\n",
    "import matplotlib.pyplot as plt\n",
    "import math\n",
    "from scipy.stats import pearsonr, spearmanr\n",
    "from statsmodels.tsa.vector_ar.var_model import VAR\n",
    "from statsmodels.tsa.arima.model import ARIMA\n",
    "from sklearn.metrics import mean_squared_error, mean_absolute_error, r2_score\n",
    "%matplotlib inline"
   ]
  },
  {
   "cell_type": "markdown",
   "metadata": {},
   "source": [
    "## Preprocessing"
   ]
  },
  {
   "cell_type": "code",
   "execution_count": 2,
   "metadata": {},
   "outputs": [
    {
     "data": {
      "text/html": [
       "<div>\n",
       "<style scoped>\n",
       "    .dataframe tbody tr th:only-of-type {\n",
       "        vertical-align: middle;\n",
       "    }\n",
       "\n",
       "    .dataframe tbody tr th {\n",
       "        vertical-align: top;\n",
       "    }\n",
       "\n",
       "    .dataframe thead th {\n",
       "        text-align: right;\n",
       "    }\n",
       "</style>\n",
       "<table border=\"1\" class=\"dataframe\">\n",
       "  <thead>\n",
       "    <tr style=\"text-align: right;\">\n",
       "      <th></th>\n",
       "      <th>date</th>\n",
       "      <th>state</th>\n",
       "      <th>dataQualityGrade</th>\n",
       "      <th>death</th>\n",
       "      <th>deathConfirmed</th>\n",
       "      <th>deathIncrease</th>\n",
       "      <th>deathProbable</th>\n",
       "      <th>hospitalized</th>\n",
       "      <th>hospitalizedCumulative</th>\n",
       "      <th>hospitalizedCurrently</th>\n",
       "      <th>hospitalizedIncrease</th>\n",
       "      <th>inIcuCumulative</th>\n",
       "      <th>inIcuCurrently</th>\n",
       "      <th>negative</th>\n",
       "      <th>negativeIncrease</th>\n",
       "      <th>negativeTestsAntibody</th>\n",
       "      <th>negativeTestsPeopleAntibody</th>\n",
       "      <th>negativeTestsViral</th>\n",
       "      <th>onVentilatorCumulative</th>\n",
       "      <th>onVentilatorCurrently</th>\n",
       "      <th>positive</th>\n",
       "      <th>positiveCasesViral</th>\n",
       "      <th>positiveIncrease</th>\n",
       "      <th>positiveScore</th>\n",
       "      <th>positiveTestsAntibody</th>\n",
       "      <th>positiveTestsAntigen</th>\n",
       "      <th>positiveTestsPeopleAntibody</th>\n",
       "      <th>positiveTestsPeopleAntigen</th>\n",
       "      <th>positiveTestsViral</th>\n",
       "      <th>recovered</th>\n",
       "      <th>totalTestEncountersViral</th>\n",
       "      <th>totalTestEncountersViralIncrease</th>\n",
       "      <th>totalTestResults</th>\n",
       "      <th>totalTestResultsIncrease</th>\n",
       "      <th>totalTestsAntibody</th>\n",
       "      <th>totalTestsAntigen</th>\n",
       "      <th>totalTestsPeopleAntibody</th>\n",
       "      <th>totalTestsPeopleAntigen</th>\n",
       "      <th>totalTestsPeopleViral</th>\n",
       "      <th>totalTestsPeopleViralIncrease</th>\n",
       "      <th>totalTestsViral</th>\n",
       "      <th>totalTestsViralIncrease</th>\n",
       "    </tr>\n",
       "  </thead>\n",
       "  <tbody>\n",
       "    <tr>\n",
       "      <th>0</th>\n",
       "      <td>2021-01-26</td>\n",
       "      <td>CA</td>\n",
       "      <td>B</td>\n",
       "      <td>37527.0</td>\n",
       "      <td>NaN</td>\n",
       "      <td>409</td>\n",
       "      <td>NaN</td>\n",
       "      <td>NaN</td>\n",
       "      <td>NaN</td>\n",
       "      <td>18039.0</td>\n",
       "      <td>0</td>\n",
       "      <td>NaN</td>\n",
       "      <td>4384.0</td>\n",
       "      <td>37857584</td>\n",
       "      <td>304834</td>\n",
       "      <td>NaN</td>\n",
       "      <td>NaN</td>\n",
       "      <td>NaN</td>\n",
       "      <td>NaN</td>\n",
       "      <td>NaN</td>\n",
       "      <td>3153186</td>\n",
       "      <td>3153186.0</td>\n",
       "      <td>17028</td>\n",
       "      <td>0</td>\n",
       "      <td>NaN</td>\n",
       "      <td>NaN</td>\n",
       "      <td>NaN</td>\n",
       "      <td>NaN</td>\n",
       "      <td>NaN</td>\n",
       "      <td>NaN</td>\n",
       "      <td>NaN</td>\n",
       "      <td>0</td>\n",
       "      <td>41010770</td>\n",
       "      <td>321862</td>\n",
       "      <td>NaN</td>\n",
       "      <td>NaN</td>\n",
       "      <td>NaN</td>\n",
       "      <td>NaN</td>\n",
       "      <td>NaN</td>\n",
       "      <td>0</td>\n",
       "      <td>41010770</td>\n",
       "      <td>321862</td>\n",
       "    </tr>\n",
       "    <tr>\n",
       "      <th>1</th>\n",
       "      <td>2021-01-25</td>\n",
       "      <td>CA</td>\n",
       "      <td>B</td>\n",
       "      <td>37118.0</td>\n",
       "      <td>NaN</td>\n",
       "      <td>328</td>\n",
       "      <td>NaN</td>\n",
       "      <td>NaN</td>\n",
       "      <td>NaN</td>\n",
       "      <td>18347.0</td>\n",
       "      <td>0</td>\n",
       "      <td>NaN</td>\n",
       "      <td>4475.0</td>\n",
       "      <td>37552750</td>\n",
       "      <td>376186</td>\n",
       "      <td>NaN</td>\n",
       "      <td>NaN</td>\n",
       "      <td>NaN</td>\n",
       "      <td>NaN</td>\n",
       "      <td>NaN</td>\n",
       "      <td>3136158</td>\n",
       "      <td>3136158.0</td>\n",
       "      <td>27007</td>\n",
       "      <td>0</td>\n",
       "      <td>NaN</td>\n",
       "      <td>NaN</td>\n",
       "      <td>NaN</td>\n",
       "      <td>NaN</td>\n",
       "      <td>NaN</td>\n",
       "      <td>NaN</td>\n",
       "      <td>NaN</td>\n",
       "      <td>0</td>\n",
       "      <td>40688908</td>\n",
       "      <td>403193</td>\n",
       "      <td>NaN</td>\n",
       "      <td>NaN</td>\n",
       "      <td>NaN</td>\n",
       "      <td>NaN</td>\n",
       "      <td>NaN</td>\n",
       "      <td>0</td>\n",
       "      <td>40688908</td>\n",
       "      <td>403193</td>\n",
       "    </tr>\n",
       "    <tr>\n",
       "      <th>2</th>\n",
       "      <td>2021-01-24</td>\n",
       "      <td>CA</td>\n",
       "      <td>B</td>\n",
       "      <td>36790.0</td>\n",
       "      <td>NaN</td>\n",
       "      <td>429</td>\n",
       "      <td>NaN</td>\n",
       "      <td>NaN</td>\n",
       "      <td>NaN</td>\n",
       "      <td>18638.0</td>\n",
       "      <td>0</td>\n",
       "      <td>NaN</td>\n",
       "      <td>4542.0</td>\n",
       "      <td>37176564</td>\n",
       "      <td>291485</td>\n",
       "      <td>NaN</td>\n",
       "      <td>NaN</td>\n",
       "      <td>NaN</td>\n",
       "      <td>NaN</td>\n",
       "      <td>NaN</td>\n",
       "      <td>3109151</td>\n",
       "      <td>3109151.0</td>\n",
       "      <td>24111</td>\n",
       "      <td>0</td>\n",
       "      <td>NaN</td>\n",
       "      <td>NaN</td>\n",
       "      <td>NaN</td>\n",
       "      <td>NaN</td>\n",
       "      <td>NaN</td>\n",
       "      <td>NaN</td>\n",
       "      <td>NaN</td>\n",
       "      <td>0</td>\n",
       "      <td>40285715</td>\n",
       "      <td>315596</td>\n",
       "      <td>NaN</td>\n",
       "      <td>NaN</td>\n",
       "      <td>NaN</td>\n",
       "      <td>NaN</td>\n",
       "      <td>NaN</td>\n",
       "      <td>0</td>\n",
       "      <td>40285715</td>\n",
       "      <td>315596</td>\n",
       "    </tr>\n",
       "    <tr>\n",
       "      <th>3</th>\n",
       "      <td>2021-01-23</td>\n",
       "      <td>CA</td>\n",
       "      <td>B</td>\n",
       "      <td>36361.0</td>\n",
       "      <td>NaN</td>\n",
       "      <td>593</td>\n",
       "      <td>NaN</td>\n",
       "      <td>NaN</td>\n",
       "      <td>NaN</td>\n",
       "      <td>19293.0</td>\n",
       "      <td>0</td>\n",
       "      <td>NaN</td>\n",
       "      <td>4641.0</td>\n",
       "      <td>36885079</td>\n",
       "      <td>221308</td>\n",
       "      <td>NaN</td>\n",
       "      <td>NaN</td>\n",
       "      <td>NaN</td>\n",
       "      <td>NaN</td>\n",
       "      <td>NaN</td>\n",
       "      <td>3085040</td>\n",
       "      <td>3085040.0</td>\n",
       "      <td>22972</td>\n",
       "      <td>0</td>\n",
       "      <td>NaN</td>\n",
       "      <td>NaN</td>\n",
       "      <td>NaN</td>\n",
       "      <td>NaN</td>\n",
       "      <td>NaN</td>\n",
       "      <td>NaN</td>\n",
       "      <td>NaN</td>\n",
       "      <td>0</td>\n",
       "      <td>39970119</td>\n",
       "      <td>244280</td>\n",
       "      <td>NaN</td>\n",
       "      <td>NaN</td>\n",
       "      <td>NaN</td>\n",
       "      <td>NaN</td>\n",
       "      <td>NaN</td>\n",
       "      <td>0</td>\n",
       "      <td>39970119</td>\n",
       "      <td>244280</td>\n",
       "    </tr>\n",
       "    <tr>\n",
       "      <th>4</th>\n",
       "      <td>2021-01-22</td>\n",
       "      <td>CA</td>\n",
       "      <td>B</td>\n",
       "      <td>35768.0</td>\n",
       "      <td>NaN</td>\n",
       "      <td>764</td>\n",
       "      <td>NaN</td>\n",
       "      <td>NaN</td>\n",
       "      <td>NaN</td>\n",
       "      <td>19855.0</td>\n",
       "      <td>0</td>\n",
       "      <td>NaN</td>\n",
       "      <td>4718.0</td>\n",
       "      <td>36663771</td>\n",
       "      <td>190059</td>\n",
       "      <td>NaN</td>\n",
       "      <td>NaN</td>\n",
       "      <td>NaN</td>\n",
       "      <td>NaN</td>\n",
       "      <td>NaN</td>\n",
       "      <td>3062068</td>\n",
       "      <td>3062068.0</td>\n",
       "      <td>23024</td>\n",
       "      <td>0</td>\n",
       "      <td>NaN</td>\n",
       "      <td>NaN</td>\n",
       "      <td>NaN</td>\n",
       "      <td>NaN</td>\n",
       "      <td>NaN</td>\n",
       "      <td>NaN</td>\n",
       "      <td>NaN</td>\n",
       "      <td>0</td>\n",
       "      <td>39725839</td>\n",
       "      <td>213083</td>\n",
       "      <td>NaN</td>\n",
       "      <td>NaN</td>\n",
       "      <td>NaN</td>\n",
       "      <td>NaN</td>\n",
       "      <td>NaN</td>\n",
       "      <td>0</td>\n",
       "      <td>39725839</td>\n",
       "      <td>213083</td>\n",
       "    </tr>\n",
       "  </tbody>\n",
       "</table>\n",
       "</div>"
      ],
      "text/plain": [
       "         date state dataQualityGrade    death  deathConfirmed  deathIncrease  \\\n",
       "0  2021-01-26    CA                B  37527.0             NaN            409   \n",
       "1  2021-01-25    CA                B  37118.0             NaN            328   \n",
       "2  2021-01-24    CA                B  36790.0             NaN            429   \n",
       "3  2021-01-23    CA                B  36361.0             NaN            593   \n",
       "4  2021-01-22    CA                B  35768.0             NaN            764   \n",
       "\n",
       "   deathProbable  hospitalized  hospitalizedCumulative  hospitalizedCurrently  \\\n",
       "0            NaN           NaN                     NaN                18039.0   \n",
       "1            NaN           NaN                     NaN                18347.0   \n",
       "2            NaN           NaN                     NaN                18638.0   \n",
       "3            NaN           NaN                     NaN                19293.0   \n",
       "4            NaN           NaN                     NaN                19855.0   \n",
       "\n",
       "   hospitalizedIncrease  inIcuCumulative  inIcuCurrently  negative  \\\n",
       "0                     0              NaN          4384.0  37857584   \n",
       "1                     0              NaN          4475.0  37552750   \n",
       "2                     0              NaN          4542.0  37176564   \n",
       "3                     0              NaN          4641.0  36885079   \n",
       "4                     0              NaN          4718.0  36663771   \n",
       "\n",
       "   negativeIncrease  negativeTestsAntibody  negativeTestsPeopleAntibody  \\\n",
       "0            304834                    NaN                          NaN   \n",
       "1            376186                    NaN                          NaN   \n",
       "2            291485                    NaN                          NaN   \n",
       "3            221308                    NaN                          NaN   \n",
       "4            190059                    NaN                          NaN   \n",
       "\n",
       "   negativeTestsViral  onVentilatorCumulative  onVentilatorCurrently  \\\n",
       "0                 NaN                     NaN                    NaN   \n",
       "1                 NaN                     NaN                    NaN   \n",
       "2                 NaN                     NaN                    NaN   \n",
       "3                 NaN                     NaN                    NaN   \n",
       "4                 NaN                     NaN                    NaN   \n",
       "\n",
       "   positive  positiveCasesViral  positiveIncrease  positiveScore  \\\n",
       "0   3153186           3153186.0             17028              0   \n",
       "1   3136158           3136158.0             27007              0   \n",
       "2   3109151           3109151.0             24111              0   \n",
       "3   3085040           3085040.0             22972              0   \n",
       "4   3062068           3062068.0             23024              0   \n",
       "\n",
       "   positiveTestsAntibody  positiveTestsAntigen  positiveTestsPeopleAntibody  \\\n",
       "0                    NaN                   NaN                          NaN   \n",
       "1                    NaN                   NaN                          NaN   \n",
       "2                    NaN                   NaN                          NaN   \n",
       "3                    NaN                   NaN                          NaN   \n",
       "4                    NaN                   NaN                          NaN   \n",
       "\n",
       "   positiveTestsPeopleAntigen  positiveTestsViral  recovered  \\\n",
       "0                         NaN                 NaN        NaN   \n",
       "1                         NaN                 NaN        NaN   \n",
       "2                         NaN                 NaN        NaN   \n",
       "3                         NaN                 NaN        NaN   \n",
       "4                         NaN                 NaN        NaN   \n",
       "\n",
       "   totalTestEncountersViral  totalTestEncountersViralIncrease  \\\n",
       "0                       NaN                                 0   \n",
       "1                       NaN                                 0   \n",
       "2                       NaN                                 0   \n",
       "3                       NaN                                 0   \n",
       "4                       NaN                                 0   \n",
       "\n",
       "   totalTestResults  totalTestResultsIncrease  totalTestsAntibody  \\\n",
       "0          41010770                    321862                 NaN   \n",
       "1          40688908                    403193                 NaN   \n",
       "2          40285715                    315596                 NaN   \n",
       "3          39970119                    244280                 NaN   \n",
       "4          39725839                    213083                 NaN   \n",
       "\n",
       "   totalTestsAntigen  totalTestsPeopleAntibody  totalTestsPeopleAntigen  \\\n",
       "0                NaN                       NaN                      NaN   \n",
       "1                NaN                       NaN                      NaN   \n",
       "2                NaN                       NaN                      NaN   \n",
       "3                NaN                       NaN                      NaN   \n",
       "4                NaN                       NaN                      NaN   \n",
       "\n",
       "   totalTestsPeopleViral  totalTestsPeopleViralIncrease  totalTestsViral  \\\n",
       "0                    NaN                              0         41010770   \n",
       "1                    NaN                              0         40688908   \n",
       "2                    NaN                              0         40285715   \n",
       "3                    NaN                              0         39970119   \n",
       "4                    NaN                              0         39725839   \n",
       "\n",
       "   totalTestsViralIncrease  \n",
       "0                   321862  \n",
       "1                   403193  \n",
       "2                   315596  \n",
       "3                   244280  \n",
       "4                   213083  "
      ]
     },
     "execution_count": 2,
     "metadata": {},
     "output_type": "execute_result"
    }
   ],
   "source": [
    "pd.set_option('display.max_columns', None)\n",
    "\n",
    "# COVID-19 testing data\n",
    "testing = pd.read_csv('https://covidtracking.com/data/download/california-history.csv')\n",
    "testing.head()"
   ]
  },
  {
   "cell_type": "code",
   "execution_count": 3,
   "metadata": {},
   "outputs": [],
   "source": [
    "# Hospital data by county if needed\n",
    "hospital_url = 'https://data.ca.gov/dataset/529ac907-6ba1-4cb7-9aae-8966fc96aeef/resource/42d33765-20fd-44b8-a978-b083b7542225/download/hospitals_by_county.csv'\n",
    "hospital_df = pd.read_csv(hospital_url)"
   ]
  },
  {
   "cell_type": "code",
   "execution_count": 4,
   "metadata": {},
   "outputs": [
    {
     "data": {
      "text/plain": [
       "array([nan])"
      ]
     },
     "execution_count": 4,
     "metadata": {},
     "output_type": "execute_result"
    }
   ],
   "source": [
    "# recovery data?\n",
    "testing['recovered'].unique()"
   ]
  },
  {
   "cell_type": "code",
   "execution_count": 5,
   "metadata": {},
   "outputs": [
    {
     "data": {
      "text/html": [
       "<div>\n",
       "<style scoped>\n",
       "    .dataframe tbody tr th:only-of-type {\n",
       "        vertical-align: middle;\n",
       "    }\n",
       "\n",
       "    .dataframe tbody tr th {\n",
       "        vertical-align: top;\n",
       "    }\n",
       "\n",
       "    .dataframe thead th {\n",
       "        text-align: right;\n",
       "    }\n",
       "</style>\n",
       "<table border=\"1\" class=\"dataframe\">\n",
       "  <thead>\n",
       "    <tr style=\"text-align: right;\">\n",
       "      <th></th>\n",
       "      <th>date</th>\n",
       "      <th>total_tests</th>\n",
       "      <th>new_tests</th>\n",
       "    </tr>\n",
       "  </thead>\n",
       "  <tbody>\n",
       "    <tr>\n",
       "      <th>0</th>\n",
       "      <td>2020-03-04</td>\n",
       "      <td>515</td>\n",
       "      <td>0</td>\n",
       "    </tr>\n",
       "    <tr>\n",
       "      <th>1</th>\n",
       "      <td>2020-03-05</td>\n",
       "      <td>515</td>\n",
       "      <td>0</td>\n",
       "    </tr>\n",
       "    <tr>\n",
       "      <th>2</th>\n",
       "      <td>2020-03-06</td>\n",
       "      <td>522</td>\n",
       "      <td>7</td>\n",
       "    </tr>\n",
       "    <tr>\n",
       "      <th>3</th>\n",
       "      <td>2020-03-07</td>\n",
       "      <td>531</td>\n",
       "      <td>9</td>\n",
       "    </tr>\n",
       "    <tr>\n",
       "      <th>4</th>\n",
       "      <td>2020-03-08</td>\n",
       "      <td>550</td>\n",
       "      <td>19</td>\n",
       "    </tr>\n",
       "  </tbody>\n",
       "</table>\n",
       "</div>"
      ],
      "text/plain": [
       "         date  total_tests  new_tests\n",
       "0  2020-03-04          515          0\n",
       "1  2020-03-05          515          0\n",
       "2  2020-03-06          522          7\n",
       "3  2020-03-07          531          9\n",
       "4  2020-03-08          550         19"
      ]
     },
     "execution_count": 5,
     "metadata": {},
     "output_type": "execute_result"
    }
   ],
   "source": [
    "testing = testing[['date', 'totalTestResults', 'totalTestResultsIncrease']]\n",
    "testing.rename(columns={'totalTestResults': 'total_tests', 'totalTestResultsIncrease': 'new_tests'}, inplace=True)\n",
    "testing = testing.sort_values(by='date', ascending=True).reset_index(drop=True)\n",
    "testing.head()"
   ]
  },
  {
   "cell_type": "code",
   "execution_count": 6,
   "metadata": {},
   "outputs": [
    {
     "data": {
      "text/html": [
       "<div>\n",
       "<style scoped>\n",
       "    .dataframe tbody tr th:only-of-type {\n",
       "        vertical-align: middle;\n",
       "    }\n",
       "\n",
       "    .dataframe tbody tr th {\n",
       "        vertical-align: top;\n",
       "    }\n",
       "\n",
       "    .dataframe thead th {\n",
       "        text-align: right;\n",
       "    }\n",
       "</style>\n",
       "<table border=\"1\" class=\"dataframe\">\n",
       "  <thead>\n",
       "    <tr style=\"text-align: right;\">\n",
       "      <th></th>\n",
       "      <th>date</th>\n",
       "      <th>state</th>\n",
       "      <th>fips</th>\n",
       "      <th>cases</th>\n",
       "      <th>deaths</th>\n",
       "    </tr>\n",
       "  </thead>\n",
       "  <tbody>\n",
       "    <tr>\n",
       "      <th>0</th>\n",
       "      <td>2020-03-04</td>\n",
       "      <td>California</td>\n",
       "      <td>6</td>\n",
       "      <td>55</td>\n",
       "      <td>1</td>\n",
       "    </tr>\n",
       "    <tr>\n",
       "      <th>1</th>\n",
       "      <td>2020-03-05</td>\n",
       "      <td>California</td>\n",
       "      <td>6</td>\n",
       "      <td>67</td>\n",
       "      <td>1</td>\n",
       "    </tr>\n",
       "    <tr>\n",
       "      <th>2</th>\n",
       "      <td>2020-03-06</td>\n",
       "      <td>California</td>\n",
       "      <td>6</td>\n",
       "      <td>81</td>\n",
       "      <td>1</td>\n",
       "    </tr>\n",
       "    <tr>\n",
       "      <th>3</th>\n",
       "      <td>2020-03-07</td>\n",
       "      <td>California</td>\n",
       "      <td>6</td>\n",
       "      <td>100</td>\n",
       "      <td>1</td>\n",
       "    </tr>\n",
       "    <tr>\n",
       "      <th>4</th>\n",
       "      <td>2020-03-08</td>\n",
       "      <td>California</td>\n",
       "      <td>6</td>\n",
       "      <td>112</td>\n",
       "      <td>1</td>\n",
       "    </tr>\n",
       "  </tbody>\n",
       "</table>\n",
       "</div>"
      ],
      "text/plain": [
       "         date       state  fips  cases  deaths\n",
       "0  2020-03-04  California     6     55       1\n",
       "1  2020-03-05  California     6     67       1\n",
       "2  2020-03-06  California     6     81       1\n",
       "3  2020-03-07  California     6    100       1\n",
       "4  2020-03-08  California     6    112       1"
      ]
     },
     "execution_count": 6,
     "metadata": {},
     "output_type": "execute_result"
    }
   ],
   "source": [
    "# NY Times time series\n",
    "url = 'https://raw.githubusercontent.com/nytimes/covid-19-data/master/us-states.csv'\n",
    "nytimes = pd.read_csv(url)\n",
    "nytimes = nytimes.loc[(nytimes['date'] >= '2020-03-04') &\n",
    "                      (nytimes['state'] == 'California')].reset_index(drop=True)\n",
    "nytimes.head()"
   ]
  },
  {
   "cell_type": "code",
   "execution_count": 7,
   "metadata": {},
   "outputs": [
    {
     "data": {
      "text/html": [
       "<div>\n",
       "<style scoped>\n",
       "    .dataframe tbody tr th:only-of-type {\n",
       "        vertical-align: middle;\n",
       "    }\n",
       "\n",
       "    .dataframe tbody tr th {\n",
       "        vertical-align: top;\n",
       "    }\n",
       "\n",
       "    .dataframe thead th {\n",
       "        text-align: right;\n",
       "    }\n",
       "</style>\n",
       "<table border=\"1\" class=\"dataframe\">\n",
       "  <thead>\n",
       "    <tr style=\"text-align: right;\">\n",
       "      <th></th>\n",
       "      <th>date</th>\n",
       "      <th>total_tests</th>\n",
       "      <th>new_tests</th>\n",
       "      <th>total_cases</th>\n",
       "      <th>total_deaths</th>\n",
       "    </tr>\n",
       "  </thead>\n",
       "  <tbody>\n",
       "    <tr>\n",
       "      <th>0</th>\n",
       "      <td>2020-03-04</td>\n",
       "      <td>515</td>\n",
       "      <td>0</td>\n",
       "      <td>55</td>\n",
       "      <td>1</td>\n",
       "    </tr>\n",
       "    <tr>\n",
       "      <th>1</th>\n",
       "      <td>2020-03-05</td>\n",
       "      <td>515</td>\n",
       "      <td>0</td>\n",
       "      <td>67</td>\n",
       "      <td>1</td>\n",
       "    </tr>\n",
       "    <tr>\n",
       "      <th>2</th>\n",
       "      <td>2020-03-06</td>\n",
       "      <td>522</td>\n",
       "      <td>7</td>\n",
       "      <td>81</td>\n",
       "      <td>1</td>\n",
       "    </tr>\n",
       "    <tr>\n",
       "      <th>3</th>\n",
       "      <td>2020-03-07</td>\n",
       "      <td>531</td>\n",
       "      <td>9</td>\n",
       "      <td>100</td>\n",
       "      <td>1</td>\n",
       "    </tr>\n",
       "    <tr>\n",
       "      <th>4</th>\n",
       "      <td>2020-03-08</td>\n",
       "      <td>550</td>\n",
       "      <td>19</td>\n",
       "      <td>112</td>\n",
       "      <td>1</td>\n",
       "    </tr>\n",
       "  </tbody>\n",
       "</table>\n",
       "</div>"
      ],
      "text/plain": [
       "         date  total_tests  new_tests  total_cases  total_deaths\n",
       "0  2020-03-04          515          0           55             1\n",
       "1  2020-03-05          515          0           67             1\n",
       "2  2020-03-06          522          7           81             1\n",
       "3  2020-03-07          531          9          100             1\n",
       "4  2020-03-08          550         19          112             1"
      ]
     },
     "execution_count": 7,
     "metadata": {},
     "output_type": "execute_result"
    }
   ],
   "source": [
    "# merge testing data and NY Times data\n",
    "df = pd.merge(testing, nytimes, how='inner', on='date')\n",
    "df.drop(['state', 'fips'], axis=1, inplace=True)\n",
    "df.rename(columns={'cases': 'total_cases', 'deaths': 'total_deaths'}, inplace=True)\n",
    "df.head()"
   ]
  },
  {
   "cell_type": "code",
   "execution_count": 8,
   "metadata": {},
   "outputs": [
    {
     "data": {
      "text/html": [
       "<div>\n",
       "<style scoped>\n",
       "    .dataframe tbody tr th:only-of-type {\n",
       "        vertical-align: middle;\n",
       "    }\n",
       "\n",
       "    .dataframe tbody tr th {\n",
       "        vertical-align: top;\n",
       "    }\n",
       "\n",
       "    .dataframe thead th {\n",
       "        text-align: right;\n",
       "    }\n",
       "</style>\n",
       "<table border=\"1\" class=\"dataframe\">\n",
       "  <thead>\n",
       "    <tr style=\"text-align: right;\">\n",
       "      <th></th>\n",
       "      <th>date</th>\n",
       "      <th>total_tests</th>\n",
       "      <th>new_tests</th>\n",
       "      <th>total_cases</th>\n",
       "      <th>total_deaths</th>\n",
       "      <th>new_cases</th>\n",
       "      <th>new_deaths</th>\n",
       "    </tr>\n",
       "  </thead>\n",
       "  <tbody>\n",
       "    <tr>\n",
       "      <th>0</th>\n",
       "      <td>2020-03-04</td>\n",
       "      <td>515</td>\n",
       "      <td>0</td>\n",
       "      <td>55</td>\n",
       "      <td>1</td>\n",
       "      <td>0</td>\n",
       "      <td>0</td>\n",
       "    </tr>\n",
       "    <tr>\n",
       "      <th>1</th>\n",
       "      <td>2020-03-05</td>\n",
       "      <td>515</td>\n",
       "      <td>0</td>\n",
       "      <td>67</td>\n",
       "      <td>1</td>\n",
       "      <td>12</td>\n",
       "      <td>0</td>\n",
       "    </tr>\n",
       "    <tr>\n",
       "      <th>2</th>\n",
       "      <td>2020-03-06</td>\n",
       "      <td>522</td>\n",
       "      <td>7</td>\n",
       "      <td>81</td>\n",
       "      <td>1</td>\n",
       "      <td>14</td>\n",
       "      <td>0</td>\n",
       "    </tr>\n",
       "    <tr>\n",
       "      <th>3</th>\n",
       "      <td>2020-03-07</td>\n",
       "      <td>531</td>\n",
       "      <td>9</td>\n",
       "      <td>100</td>\n",
       "      <td>1</td>\n",
       "      <td>19</td>\n",
       "      <td>0</td>\n",
       "    </tr>\n",
       "    <tr>\n",
       "      <th>4</th>\n",
       "      <td>2020-03-08</td>\n",
       "      <td>550</td>\n",
       "      <td>19</td>\n",
       "      <td>112</td>\n",
       "      <td>1</td>\n",
       "      <td>12</td>\n",
       "      <td>0</td>\n",
       "    </tr>\n",
       "  </tbody>\n",
       "</table>\n",
       "</div>"
      ],
      "text/plain": [
       "         date  total_tests  new_tests  total_cases  total_deaths  new_cases  \\\n",
       "0  2020-03-04          515          0           55             1          0   \n",
       "1  2020-03-05          515          0           67             1         12   \n",
       "2  2020-03-06          522          7           81             1         14   \n",
       "3  2020-03-07          531          9          100             1         19   \n",
       "4  2020-03-08          550         19          112             1         12   \n",
       "\n",
       "   new_deaths  \n",
       "0           0  \n",
       "1           0  \n",
       "2           0  \n",
       "3           0  \n",
       "4           0  "
      ]
     },
     "execution_count": 8,
     "metadata": {},
     "output_type": "execute_result"
    }
   ],
   "source": [
    "# create daily cases and daily deaths columns\n",
    "df['new_cases'] = df['total_cases'].diff()\n",
    "df['new_deaths'] = df['total_deaths'].diff()\n",
    "df.fillna(0, inplace=True)\n",
    "df['new_cases'] = df['new_cases'].astype('int')\n",
    "df['new_deaths'] = df['new_deaths'].astype('int')\n",
    "df.head()"
   ]
  },
  {
   "cell_type": "code",
   "execution_count": 9,
   "metadata": {},
   "outputs": [
    {
     "data": {
      "text/html": [
       "<div>\n",
       "<style scoped>\n",
       "    .dataframe tbody tr th:only-of-type {\n",
       "        vertical-align: middle;\n",
       "    }\n",
       "\n",
       "    .dataframe tbody tr th {\n",
       "        vertical-align: top;\n",
       "    }\n",
       "\n",
       "    .dataframe thead th {\n",
       "        text-align: right;\n",
       "    }\n",
       "</style>\n",
       "<table border=\"1\" class=\"dataframe\">\n",
       "  <thead>\n",
       "    <tr style=\"text-align: right;\">\n",
       "      <th></th>\n",
       "      <th>date</th>\n",
       "      <th>total_tests</th>\n",
       "      <th>new_tests</th>\n",
       "      <th>total_cases</th>\n",
       "      <th>total_deaths</th>\n",
       "      <th>new_cases</th>\n",
       "      <th>new_deaths</th>\n",
       "      <th>positivity_rate</th>\n",
       "    </tr>\n",
       "  </thead>\n",
       "  <tbody>\n",
       "    <tr>\n",
       "      <th>0</th>\n",
       "      <td>2020-03-04</td>\n",
       "      <td>515</td>\n",
       "      <td>0</td>\n",
       "      <td>55</td>\n",
       "      <td>1</td>\n",
       "      <td>0</td>\n",
       "      <td>0</td>\n",
       "      <td>0.106796</td>\n",
       "    </tr>\n",
       "    <tr>\n",
       "      <th>1</th>\n",
       "      <td>2020-03-05</td>\n",
       "      <td>515</td>\n",
       "      <td>0</td>\n",
       "      <td>67</td>\n",
       "      <td>1</td>\n",
       "      <td>12</td>\n",
       "      <td>0</td>\n",
       "      <td>0.130097</td>\n",
       "    </tr>\n",
       "    <tr>\n",
       "      <th>2</th>\n",
       "      <td>2020-03-06</td>\n",
       "      <td>522</td>\n",
       "      <td>7</td>\n",
       "      <td>81</td>\n",
       "      <td>1</td>\n",
       "      <td>14</td>\n",
       "      <td>0</td>\n",
       "      <td>0.155172</td>\n",
       "    </tr>\n",
       "    <tr>\n",
       "      <th>3</th>\n",
       "      <td>2020-03-07</td>\n",
       "      <td>531</td>\n",
       "      <td>9</td>\n",
       "      <td>100</td>\n",
       "      <td>1</td>\n",
       "      <td>19</td>\n",
       "      <td>0</td>\n",
       "      <td>0.188324</td>\n",
       "    </tr>\n",
       "    <tr>\n",
       "      <th>4</th>\n",
       "      <td>2020-03-08</td>\n",
       "      <td>550</td>\n",
       "      <td>19</td>\n",
       "      <td>112</td>\n",
       "      <td>1</td>\n",
       "      <td>12</td>\n",
       "      <td>0</td>\n",
       "      <td>0.203636</td>\n",
       "    </tr>\n",
       "  </tbody>\n",
       "</table>\n",
       "</div>"
      ],
      "text/plain": [
       "         date  total_tests  new_tests  total_cases  total_deaths  new_cases  \\\n",
       "0  2020-03-04          515          0           55             1          0   \n",
       "1  2020-03-05          515          0           67             1         12   \n",
       "2  2020-03-06          522          7           81             1         14   \n",
       "3  2020-03-07          531          9          100             1         19   \n",
       "4  2020-03-08          550         19          112             1         12   \n",
       "\n",
       "   new_deaths  positivity_rate  \n",
       "0           0         0.106796  \n",
       "1           0         0.130097  \n",
       "2           0         0.155172  \n",
       "3           0         0.188324  \n",
       "4           0         0.203636  "
      ]
     },
     "execution_count": 9,
     "metadata": {},
     "output_type": "execute_result"
    }
   ],
   "source": [
    "# add positivity rate column\n",
    "df['positivity_rate'] = df['total_cases']/df['total_tests']\n",
    "df.head()"
   ]
  },
  {
   "cell_type": "code",
   "execution_count": 10,
   "metadata": {},
   "outputs": [
    {
     "name": "stdout",
     "output_type": "stream",
     "text": [
      "(329, 8)\n"
     ]
    },
    {
     "data": {
      "text/html": [
       "<div>\n",
       "<style scoped>\n",
       "    .dataframe tbody tr th:only-of-type {\n",
       "        vertical-align: middle;\n",
       "    }\n",
       "\n",
       "    .dataframe tbody tr th {\n",
       "        vertical-align: top;\n",
       "    }\n",
       "\n",
       "    .dataframe thead th {\n",
       "        text-align: right;\n",
       "    }\n",
       "</style>\n",
       "<table border=\"1\" class=\"dataframe\">\n",
       "  <thead>\n",
       "    <tr style=\"text-align: right;\">\n",
       "      <th></th>\n",
       "      <th>date</th>\n",
       "      <th>total_tests</th>\n",
       "      <th>new_tests</th>\n",
       "      <th>total_cases</th>\n",
       "      <th>total_deaths</th>\n",
       "      <th>new_cases</th>\n",
       "      <th>new_deaths</th>\n",
       "      <th>positivity_rate</th>\n",
       "    </tr>\n",
       "  </thead>\n",
       "  <tbody>\n",
       "    <tr>\n",
       "      <th>0</th>\n",
       "      <td>2020-03-04</td>\n",
       "      <td>515</td>\n",
       "      <td>0</td>\n",
       "      <td>55</td>\n",
       "      <td>1</td>\n",
       "      <td>0</td>\n",
       "      <td>0</td>\n",
       "      <td>0.106796</td>\n",
       "    </tr>\n",
       "    <tr>\n",
       "      <th>1</th>\n",
       "      <td>2020-03-05</td>\n",
       "      <td>515</td>\n",
       "      <td>0</td>\n",
       "      <td>67</td>\n",
       "      <td>1</td>\n",
       "      <td>12</td>\n",
       "      <td>0</td>\n",
       "      <td>0.130097</td>\n",
       "    </tr>\n",
       "    <tr>\n",
       "      <th>2</th>\n",
       "      <td>2020-03-06</td>\n",
       "      <td>522</td>\n",
       "      <td>7</td>\n",
       "      <td>81</td>\n",
       "      <td>1</td>\n",
       "      <td>14</td>\n",
       "      <td>0</td>\n",
       "      <td>0.155172</td>\n",
       "    </tr>\n",
       "    <tr>\n",
       "      <th>3</th>\n",
       "      <td>2020-03-07</td>\n",
       "      <td>531</td>\n",
       "      <td>9</td>\n",
       "      <td>100</td>\n",
       "      <td>1</td>\n",
       "      <td>19</td>\n",
       "      <td>0</td>\n",
       "      <td>0.188324</td>\n",
       "    </tr>\n",
       "    <tr>\n",
       "      <th>4</th>\n",
       "      <td>2020-03-08</td>\n",
       "      <td>550</td>\n",
       "      <td>19</td>\n",
       "      <td>112</td>\n",
       "      <td>1</td>\n",
       "      <td>12</td>\n",
       "      <td>0</td>\n",
       "      <td>0.203636</td>\n",
       "    </tr>\n",
       "  </tbody>\n",
       "</table>\n",
       "</div>"
      ],
      "text/plain": [
       "         date  total_tests  new_tests  total_cases  total_deaths  new_cases  \\\n",
       "0  2020-03-04          515          0           55             1          0   \n",
       "1  2020-03-05          515          0           67             1         12   \n",
       "2  2020-03-06          522          7           81             1         14   \n",
       "3  2020-03-07          531          9          100             1         19   \n",
       "4  2020-03-08          550         19          112             1         12   \n",
       "\n",
       "   new_deaths  positivity_rate  \n",
       "0           0         0.106796  \n",
       "1           0         0.130097  \n",
       "2           0         0.155172  \n",
       "3           0         0.188324  \n",
       "4           0         0.203636  "
      ]
     },
     "execution_count": 10,
     "metadata": {},
     "output_type": "execute_result"
    }
   ],
   "source": [
    "df.to_csv('california_covid19.csv')\n",
    "print(df.shape)\n",
    "df.head()"
   ]
  },
  {
   "cell_type": "code",
   "execution_count": 11,
   "metadata": {},
   "outputs": [
    {
     "data": {
      "image/png": "[encoded data removed]",
      "text/plain": [
       "<Figure size 1200x960 with 3 Axes>"
      ]
     },
     "metadata": {
      "needs_background": "light"
     },
     "output_type": "display_data"
    }
   ],
   "source": [
    "plot_df = df.loc[:, ['new_tests', 'new_cases', 'new_deaths']]\n",
    "fig, axes = plt.subplots(nrows=3, ncols=1, dpi=120, figsize=(10,8))\n",
    "plt.rc('font', size=10)\n",
    "for i, ax in enumerate(axes.flatten()): \n",
    "    data = plot_df[plot_df.columns[i]]\n",
    "    ax.plot(data, color='red', linewidth=1)\n",
    "    ax.set_title(plot_df.columns[i])\n",
    "    ax.xaxis.set_ticks_position('none')\n",
    "    ax.yaxis.set_ticks_position('none')\n",
    "    ax.spines[\"top\"].set_alpha(0)\n",
    "    ax.tick_params(labelsize=8)\n",
    "plt.tight_layout()"
   ]
  },
  {
   "cell_type": "markdown",
   "metadata": {},
   "source": [
    "## Correlation"
   ]
  },
  {
   "cell_type": "code",
   "execution_count": 12,
   "metadata": {},
   "outputs": [
    {
     "name": "stdout",
     "output_type": "stream",
     "text": [
      "correlation: 0.731287361652476\n",
      "p value: 2.7609964950603994e-56\n"
     ]
    }
   ],
   "source": [
    "# Our null hypothesis is that the correlation coefficient is not significantly different from 0.\n",
    "def pearson_corr(column1, column2):\n",
    "    corr_coef, p_value = pearsonr(column1, column2)\n",
    "    print('correlation:', corr_coef)\n",
    "    print('p value:', p_value)\n",
    "\n",
    "def spearman_corr(column1, column2):\n",
    "    corr_coef, p_value = spearmanr(column1, column2)\n",
    "    print('correlation:', corr_coef)\n",
    "    print('p value:', p_value)\n",
    "    \n",
    "pearson_corr(df['new_cases'], df['new_deaths'])"
   ]
  },
  {
   "cell_type": "markdown",
   "metadata": {},
   "source": [
    "P-value is less than 0.05, so we can conclude there is a positive correlation between new deaths and new cases."
   ]
  },
  {
   "cell_type": "code",
   "execution_count": 13,
   "metadata": {},
   "outputs": [
    {
     "name": "stderr",
     "output_type": "stream",
     "text": [
      "/Library/Frameworks/Python.framework/Versions/3.8/lib/python3.8/site-packages/pandas/core/series.py:679: RuntimeWarning: divide by zero encountered in log\n",
      "  result = getattr(ufunc, method)(*inputs, **kwargs)\n",
      "/Library/Frameworks/Python.framework/Versions/3.8/lib/python3.8/site-packages/pandas/core/series.py:679: RuntimeWarning: invalid value encountered in log\n",
      "  result = getattr(ufunc, method)(*inputs, **kwargs)\n"
     ]
    },
    {
     "data": {
      "image/png": "[encoded data removed]",
      "text/plain": [
       "<Figure size 720x432 with 1 Axes>"
      ]
     },
     "metadata": {
      "needs_background": "light"
     },
     "output_type": "display_data"
    }
   ],
   "source": [
    "plt.figure(figsize=(10,6))\n",
    "plt.scatter(np.arange(0, len(df)), np.log(df['new_cases']), label='new cases')\n",
    "plt.scatter(np.arange(0, len(df)), np.log(df['new_deaths']), label='new deaths', c='red')\n",
    "plt.legend()\n",
    "plt.xlabel('day')\n",
    "plt.ylabel('cases/deaths (log)')\n",
    "plt.show()"
   ]
  },
  {
   "cell_type": "code",
   "execution_count": 14,
   "metadata": {},
   "outputs": [
    {
     "name": "stdout",
     "output_type": "stream",
     "text": [
      "correlation: -0.40086590344044376\n",
      "p value: 3.941952105944471e-14\n"
     ]
    }
   ],
   "source": [
    "pearson_corr(df['positivity_rate'], df['total_deaths'])"
   ]
  },
  {
   "cell_type": "code",
   "execution_count": 15,
   "metadata": {},
   "outputs": [
    {
     "data": {
      "text/html": [
       "<div>\n",
       "<style scoped>\n",
       "    .dataframe tbody tr th:only-of-type {\n",
       "        vertical-align: middle;\n",
       "    }\n",
       "\n",
       "    .dataframe tbody tr th {\n",
       "        vertical-align: top;\n",
       "    }\n",
       "\n",
       "    .dataframe thead th {\n",
       "        text-align: right;\n",
       "    }\n",
       "</style>\n",
       "<table border=\"1\" class=\"dataframe\">\n",
       "  <thead>\n",
       "    <tr style=\"text-align: right;\">\n",
       "      <th></th>\n",
       "      <th>total_tests</th>\n",
       "      <th>new_tests</th>\n",
       "      <th>total_cases</th>\n",
       "      <th>total_deaths</th>\n",
       "      <th>new_cases</th>\n",
       "      <th>new_deaths</th>\n",
       "      <th>positivity_rate</th>\n",
       "    </tr>\n",
       "  </thead>\n",
       "  <tbody>\n",
       "    <tr>\n",
       "      <th>total_tests</th>\n",
       "      <td>1.000000</td>\n",
       "      <td>0.919509</td>\n",
       "      <td>1.000000</td>\n",
       "      <td>0.999998</td>\n",
       "      <td>0.836306</td>\n",
       "      <td>0.514380</td>\n",
       "      <td>-0.456779</td>\n",
       "    </tr>\n",
       "    <tr>\n",
       "      <th>new_tests</th>\n",
       "      <td>0.919509</td>\n",
       "      <td>1.000000</td>\n",
       "      <td>0.919508</td>\n",
       "      <td>0.919501</td>\n",
       "      <td>0.871636</td>\n",
       "      <td>0.477939</td>\n",
       "      <td>-0.395366</td>\n",
       "    </tr>\n",
       "    <tr>\n",
       "      <th>total_cases</th>\n",
       "      <td>1.000000</td>\n",
       "      <td>0.919508</td>\n",
       "      <td>1.000000</td>\n",
       "      <td>0.999998</td>\n",
       "      <td>0.836306</td>\n",
       "      <td>0.514381</td>\n",
       "      <td>-0.456775</td>\n",
       "    </tr>\n",
       "    <tr>\n",
       "      <th>total_deaths</th>\n",
       "      <td>0.999998</td>\n",
       "      <td>0.919501</td>\n",
       "      <td>0.999998</td>\n",
       "      <td>1.000000</td>\n",
       "      <td>0.836316</td>\n",
       "      <td>0.514462</td>\n",
       "      <td>-0.456799</td>\n",
       "    </tr>\n",
       "    <tr>\n",
       "      <th>new_cases</th>\n",
       "      <td>0.836306</td>\n",
       "      <td>0.871636</td>\n",
       "      <td>0.836306</td>\n",
       "      <td>0.836316</td>\n",
       "      <td>1.000000</td>\n",
       "      <td>0.636385</td>\n",
       "      <td>-0.316282</td>\n",
       "    </tr>\n",
       "    <tr>\n",
       "      <th>new_deaths</th>\n",
       "      <td>0.514380</td>\n",
       "      <td>0.477939</td>\n",
       "      <td>0.514381</td>\n",
       "      <td>0.514462</td>\n",
       "      <td>0.636385</td>\n",
       "      <td>1.000000</td>\n",
       "      <td>0.057285</td>\n",
       "    </tr>\n",
       "    <tr>\n",
       "      <th>positivity_rate</th>\n",
       "      <td>-0.456779</td>\n",
       "      <td>-0.395366</td>\n",
       "      <td>-0.456775</td>\n",
       "      <td>-0.456799</td>\n",
       "      <td>-0.316282</td>\n",
       "      <td>0.057285</td>\n",
       "      <td>1.000000</td>\n",
       "    </tr>\n",
       "  </tbody>\n",
       "</table>\n",
       "</div>"
      ],
      "text/plain": [
       "                 total_tests  new_tests  total_cases  total_deaths  new_cases  \\\n",
       "total_tests         1.000000   0.919509     1.000000      0.999998   0.836306   \n",
       "new_tests           0.919509   1.000000     0.919508      0.919501   0.871636   \n",
       "total_cases         1.000000   0.919508     1.000000      0.999998   0.836306   \n",
       "total_deaths        0.999998   0.919501     0.999998      1.000000   0.836316   \n",
       "new_cases           0.836306   0.871636     0.836306      0.836316   1.000000   \n",
       "new_deaths          0.514380   0.477939     0.514381      0.514462   0.636385   \n",
       "positivity_rate    -0.456779  -0.395366    -0.456775     -0.456799  -0.316282   \n",
       "\n",
       "                 new_deaths  positivity_rate  \n",
       "total_tests        0.514380        -0.456779  \n",
       "new_tests          0.477939        -0.395366  \n",
       "total_cases        0.514381        -0.456775  \n",
       "total_deaths       0.514462        -0.456799  \n",
       "new_cases          0.636385        -0.316282  \n",
       "new_deaths         1.000000         0.057285  \n",
       "positivity_rate    0.057285         1.000000  "
      ]
     },
     "execution_count": 15,
     "metadata": {},
     "output_type": "execute_result"
    }
   ],
   "source": [
    "df.corr(method='spearman')"
   ]
  },
  {
   "cell_type": "markdown",
   "metadata": {},
   "source": [
    "## VAR"
   ]
  },
  {
   "cell_type": "code",
   "execution_count": 16,
   "metadata": {},
   "outputs": [
    {
     "data": {
      "text/plain": [
       "(329, 5)"
      ]
     },
     "execution_count": 16,
     "metadata": {},
     "output_type": "execute_result"
    }
   ],
   "source": [
    "deaths_df = df[['new_tests', 'total_deaths', 'new_cases', 'new_deaths', 'positivity_rate']]\n",
    "deaths_df.shape"
   ]
  },
  {
   "cell_type": "code",
   "execution_count": 17,
   "metadata": {},
   "outputs": [
    {
     "name": "stdout",
     "output_type": "stream",
     "text": [
      "(230, 5) (99, 5)\n"
     ]
    }
   ],
   "source": [
    "train, test = np.split(deaths_df, [int(.7 *len(deaths_df))])\n",
    "print(train.shape, test.shape)"
   ]
  },
  {
   "cell_type": "code",
   "execution_count": 18,
   "metadata": {},
   "outputs": [],
   "source": [
    "def plot(title):\n",
    "    plt.figure(figsize=(10,6))\n",
    "    plt.rc('font', size=12)\n",
    "    plt.plot(np.arange(0, len(deaths_df)), deaths_df['total_deaths'], label='actual deaths')\n",
    "    plt.plot(np.arange(0, len(pred_df)), pred_df['total_deaths'], '--', label='forecasted deaths', c='red')\n",
    "    plt.xlabel('day')\n",
    "    plt.ylabel('deaths')\n",
    "    plt.legend()\n",
    "    plt.ticklabel_format(style='plain', axis='y')\n",
    "    plt.title(title)\n",
    "    plt.show()"
   ]
  },
  {
   "cell_type": "code",
   "execution_count": 19,
   "metadata": {
    "scrolled": false
   },
   "outputs": [],
   "source": [
    "# num_intervals = list(range(10, 30))\n",
    "# for i in num_intervals:  \n",
    "#     split_df = np.array_split(deaths_df, i) # splits data into certain number of intervals\n",
    "#     cols = ['new_tests', 'total_deaths', 'new_cases', 'new_deaths', 'positivity_rate']\n",
    "#     pred_df = pd.DataFrame(columns=cols) # create empty df for predictions\n",
    "    \n",
    "#     # predict for each df in the split df and append predictions to empty df\n",
    "#     for df in split_df:\n",
    "#         deaths_model = VAR(df)\n",
    "#         model_fit = deaths_model.fit()\n",
    "#         prediction = pd.DataFrame(model_fit.forecast(model_fit.y, steps=len(split_df[0])), columns=cols)\n",
    "#         pred_df = pred_df.append(prediction, ignore_index=True)\n",
    "#     pred_df['new_tests'] = pred_df['new_tests'].astype('int64')\n",
    "#     pred_df['total_deaths'] = pred_df['total_deaths'].astype('int64')\n",
    "#     pred_df['new_cases'] = pred_df['new_cases'].astype('int64')\n",
    "#     pred_df['new_deaths'] = pred_df['new_deaths'].astype('int64')\n",
    "#     plot('actual vs forecasted deaths using {} intervals'.format(i))"
   ]
  },
  {
   "cell_type": "markdown",
   "metadata": {},
   "source": [
    "## ARIMA"
   ]
  },
  {
   "cell_type": "markdown",
   "metadata": {},
   "source": [
    "### Forecast 1 day at a time"
   ]
  },
  {
   "cell_type": "code",
   "execution_count": 20,
   "metadata": {},
   "outputs": [
    {
     "name": "stdout",
     "output_type": "stream",
     "text": [
      "(230,) (99,)\n"
     ]
    }
   ],
   "source": [
    "x = deaths_df['total_deaths']\n",
    "size = int(len(x) * 0.7)\n",
    "train, test = x[0:size], x[size:len(x)]\n",
    "print(train.shape, test.shape)"
   ]
  },
  {
   "cell_type": "markdown",
   "metadata": {},
   "source": [
    "https://www.statsmodels.org/devel/generated/statsmodels.tsa.arima_model.ARIMA.html\n",
    "\n",
    "https://machinelearningmastery.com/arima-for-time-series-forecasting-with-python/\n",
    "\n",
    "order = (3,1,0) sets the lag value to 3 for autoregression, uses a difference order of 1 to make the time series stationary, and uses a moving average model of 0"
   ]
  },
  {
   "cell_type": "code",
   "execution_count": 21,
   "metadata": {},
   "outputs": [],
   "source": [
    "history = [i for i in train]\n",
    "pred = []\n",
    "for t in range(len(test)):\n",
    "    model = ARIMA(history, order=(3,1,0))\n",
    "    model_fit = model.fit()\n",
    "    output = model_fit.forecast() # perform 1 step forecast\n",
    "    yhat = output[0]\n",
    "    pred.append(yhat)\n",
    "    obs = np.array(test)[t]\n",
    "    history.append(obs)"
   ]
  },
  {
   "cell_type": "code",
   "execution_count": 22,
   "metadata": {},
   "outputs": [
    {
     "data": {
      "text/html": [
       "<table class=\"simpletable\">\n",
       "<caption>SARIMAX Results</caption>\n",
       "<tr>\n",
       "  <th>Dep. Variable:</th>           <td>y</td>        <th>  No. Observations:  </th>    <td>328</td>   \n",
       "</tr>\n",
       "<tr>\n",
       "  <th>Model:</th>            <td>ARIMA(3, 1, 0)</td>  <th>  Log Likelihood     </th> <td>-1867.861</td>\n",
       "</tr>\n",
       "<tr>\n",
       "  <th>Date:</th>            <td>Wed, 27 Jan 2021</td> <th>  AIC                </th> <td>3743.721</td> \n",
       "</tr>\n",
       "<tr>\n",
       "  <th>Time:</th>                <td>11:49:19</td>     <th>  BIC                </th> <td>3758.881</td> \n",
       "</tr>\n",
       "<tr>\n",
       "  <th>Sample:</th>                  <td>0</td>        <th>  HQIC               </th> <td>3749.770</td> \n",
       "</tr>\n",
       "<tr>\n",
       "  <th></th>                      <td> - 328</td>      <th>                     </th>     <td> </td>    \n",
       "</tr>\n",
       "<tr>\n",
       "  <th>Covariance Type:</th>        <td>opg</td>       <th>                     </th>     <td> </td>    \n",
       "</tr>\n",
       "</table>\n",
       "<table class=\"simpletable\">\n",
       "<tr>\n",
       "     <td></td>       <th>coef</th>     <th>std err</th>      <th>z</th>      <th>P>|z|</th>  <th>[0.025</th>    <th>0.975]</th>  \n",
       "</tr>\n",
       "<tr>\n",
       "  <th>ar.L1</th>  <td>    0.8042</td> <td>    0.034</td> <td>   23.359</td> <td> 0.000</td> <td>    0.737</td> <td>    0.872</td>\n",
       "</tr>\n",
       "<tr>\n",
       "  <th>ar.L2</th>  <td>   -0.0090</td> <td>    0.037</td> <td>   -0.245</td> <td> 0.806</td> <td>   -0.081</td> <td>    0.063</td>\n",
       "</tr>\n",
       "<tr>\n",
       "  <th>ar.L3</th>  <td>    0.1378</td> <td>    0.026</td> <td>    5.229</td> <td> 0.000</td> <td>    0.086</td> <td>    0.189</td>\n",
       "</tr>\n",
       "<tr>\n",
       "  <th>sigma2</th> <td> 5328.1265</td> <td>  204.456</td> <td>   26.060</td> <td> 0.000</td> <td> 4927.400</td> <td> 5728.853</td>\n",
       "</tr>\n",
       "</table>\n",
       "<table class=\"simpletable\">\n",
       "<tr>\n",
       "  <th>Ljung-Box (Q):</th>          <td>531.25</td> <th>  Jarque-Bera (JB):  </th> <td>894.78</td>\n",
       "</tr>\n",
       "<tr>\n",
       "  <th>Prob(Q):</th>                 <td>0.00</td>  <th>  Prob(JB):          </th>  <td>0.00</td> \n",
       "</tr>\n",
       "<tr>\n",
       "  <th>Heteroskedasticity (H):</th>  <td>15.65</td> <th>  Skew:              </th>  <td>0.82</td> \n",
       "</tr>\n",
       "<tr>\n",
       "  <th>Prob(H) (two-sided):</th>     <td>0.00</td>  <th>  Kurtosis:          </th>  <td>10.94</td>\n",
       "</tr>\n",
       "</table><br/><br/>Warnings:<br/>[1] Covariance matrix calculated using the outer product of gradients (complex-step)."
      ],
      "text/plain": [
       "<class 'statsmodels.iolib.summary.Summary'>\n",
       "\"\"\"\n",
       "                               SARIMAX Results                                \n",
       "==============================================================================\n",
       "Dep. Variable:                      y   No. Observations:                  328\n",
       "Model:                 ARIMA(3, 1, 0)   Log Likelihood               -1867.861\n",
       "Date:                Wed, 27 Jan 2021   AIC                           3743.721\n",
       "Time:                        11:49:19   BIC                           3758.881\n",
       "Sample:                             0   HQIC                          3749.770\n",
       "                                - 328                                         \n",
       "Covariance Type:                  opg                                         \n",
       "==============================================================================\n",
       "                 coef    std err          z      P>|z|      [0.025      0.975]\n",
       "------------------------------------------------------------------------------\n",
       "ar.L1          0.8042      0.034     23.359      0.000       0.737       0.872\n",
       "ar.L2         -0.0090      0.037     -0.245      0.806      -0.081       0.063\n",
       "ar.L3          0.1378      0.026      5.229      0.000       0.086       0.189\n",
       "sigma2      5328.1265    204.456     26.060      0.000    4927.400    5728.853\n",
       "===================================================================================\n",
       "Ljung-Box (Q):                      531.25   Jarque-Bera (JB):               894.78\n",
       "Prob(Q):                              0.00   Prob(JB):                         0.00\n",
       "Heteroskedasticity (H):              15.65   Skew:                             0.82\n",
       "Prob(H) (two-sided):                  0.00   Kurtosis:                        10.94\n",
       "===================================================================================\n",
       "\n",
       "Warnings:\n",
       "[1] Covariance matrix calculated using the outer product of gradients (complex-step).\n",
       "\"\"\""
      ]
     },
     "execution_count": 22,
     "metadata": {},
     "output_type": "execute_result"
    }
   ],
   "source": [
    "model_fit.summary()"
   ]
  },
  {
   "cell_type": "code",
   "execution_count": 23,
   "metadata": {},
   "outputs": [
    {
     "name": "stdout",
     "output_type": "stream",
     "text": [
      "mae: 88.83948672535332\n",
      "rmse: 128.03954989753038\n",
      "r2: 0.9995470638177281\n"
     ]
    }
   ],
   "source": [
    "def metrics(test, pred):  \n",
    "    mae = mean_absolute_error(test, pred)\n",
    "    rmse = math.sqrt(mean_squared_error(test, pred))\n",
    "    r2 = r2_score(test, pred)\n",
    "    print('mae:', mae)\n",
    "    print('rmse:', rmse)\n",
    "    print('r2:', r2)\n",
    "\n",
    "metrics(test, pred)"
   ]
  },
  {
   "cell_type": "code",
   "execution_count": 24,
   "metadata": {},
   "outputs": [
    {
     "data": {
      "text/html": [
       "<div>\n",
       "<style scoped>\n",
       "    .dataframe tbody tr th:only-of-type {\n",
       "        vertical-align: middle;\n",
       "    }\n",
       "\n",
       "    .dataframe tbody tr th {\n",
       "        vertical-align: top;\n",
       "    }\n",
       "\n",
       "    .dataframe thead th {\n",
       "        text-align: right;\n",
       "    }\n",
       "</style>\n",
       "<table border=\"1\" class=\"dataframe\">\n",
       "  <thead>\n",
       "    <tr style=\"text-align: right;\">\n",
       "      <th></th>\n",
       "      <th>actual</th>\n",
       "      <th>prediction</th>\n",
       "      <th>diff</th>\n",
       "      <th>upper</th>\n",
       "      <th>lower</th>\n",
       "    </tr>\n",
       "  </thead>\n",
       "  <tbody>\n",
       "    <tr>\n",
       "      <th>230</th>\n",
       "      <td>17067</td>\n",
       "      <td>16996.835516</td>\n",
       "      <td>70.164484</td>\n",
       "      <td>17134.357905</td>\n",
       "      <td>16859.313127</td>\n",
       "    </tr>\n",
       "    <tr>\n",
       "      <th>231</th>\n",
       "      <td>17189</td>\n",
       "      <td>17143.412687</td>\n",
       "      <td>45.587313</td>\n",
       "      <td>17232.763821</td>\n",
       "      <td>17054.061553</td>\n",
       "    </tr>\n",
       "    <tr>\n",
       "      <th>232</th>\n",
       "      <td>17266</td>\n",
       "      <td>17276.540358</td>\n",
       "      <td>-10.540358</td>\n",
       "      <td>17255.881256</td>\n",
       "      <td>17297.199461</td>\n",
       "    </tr>\n",
       "    <tr>\n",
       "      <th>233</th>\n",
       "      <td>17316</td>\n",
       "      <td>17327.898607</td>\n",
       "      <td>-11.898607</td>\n",
       "      <td>17304.577337</td>\n",
       "      <td>17351.219877</td>\n",
       "    </tr>\n",
       "    <tr>\n",
       "      <th>234</th>\n",
       "      <td>17345</td>\n",
       "      <td>17377.583827</td>\n",
       "      <td>-32.583827</td>\n",
       "      <td>17313.719526</td>\n",
       "      <td>17441.448129</td>\n",
       "    </tr>\n",
       "    <tr>\n",
       "      <th>...</th>\n",
       "      <td>...</td>\n",
       "      <td>...</td>\n",
       "      <td>...</td>\n",
       "      <td>...</td>\n",
       "      <td>...</td>\n",
       "    </tr>\n",
       "    <tr>\n",
       "      <th>324</th>\n",
       "      <td>36326</td>\n",
       "      <td>36365.125897</td>\n",
       "      <td>-39.125897</td>\n",
       "      <td>36288.439139</td>\n",
       "      <td>36441.812655</td>\n",
       "    </tr>\n",
       "    <tr>\n",
       "      <th>325</th>\n",
       "      <td>36818</td>\n",
       "      <td>36915.276966</td>\n",
       "      <td>-97.276966</td>\n",
       "      <td>36724.614113</td>\n",
       "      <td>37105.939819</td>\n",
       "    </tr>\n",
       "    <tr>\n",
       "      <th>326</th>\n",
       "      <td>37118</td>\n",
       "      <td>37312.683814</td>\n",
       "      <td>-194.683814</td>\n",
       "      <td>36931.103539</td>\n",
       "      <td>37694.264089</td>\n",
       "    </tr>\n",
       "    <tr>\n",
       "      <th>327</th>\n",
       "      <td>37499</td>\n",
       "      <td>37437.006079</td>\n",
       "      <td>61.993921</td>\n",
       "      <td>37558.514165</td>\n",
       "      <td>37315.497993</td>\n",
       "    </tr>\n",
       "    <tr>\n",
       "      <th>328</th>\n",
       "      <td>38221</td>\n",
       "      <td>37870.518330</td>\n",
       "      <td>350.481670</td>\n",
       "      <td>38557.462403</td>\n",
       "      <td>37183.574257</td>\n",
       "    </tr>\n",
       "  </tbody>\n",
       "</table>\n",
       "<p>99 rows × 5 columns</p>\n",
       "</div>"
      ],
      "text/plain": [
       "     actual    prediction        diff         upper         lower\n",
       "230   17067  16996.835516   70.164484  17134.357905  16859.313127\n",
       "231   17189  17143.412687   45.587313  17232.763821  17054.061553\n",
       "232   17266  17276.540358  -10.540358  17255.881256  17297.199461\n",
       "233   17316  17327.898607  -11.898607  17304.577337  17351.219877\n",
       "234   17345  17377.583827  -32.583827  17313.719526  17441.448129\n",
       "..      ...           ...         ...           ...           ...\n",
       "324   36326  36365.125897  -39.125897  36288.439139  36441.812655\n",
       "325   36818  36915.276966  -97.276966  36724.614113  37105.939819\n",
       "326   37118  37312.683814 -194.683814  36931.103539  37694.264089\n",
       "327   37499  37437.006079   61.993921  37558.514165  37315.497993\n",
       "328   38221  37870.518330  350.481670  38557.462403  37183.574257\n",
       "\n",
       "[99 rows x 5 columns]"
      ]
     },
     "execution_count": 24,
     "metadata": {},
     "output_type": "execute_result"
    }
   ],
   "source": [
    "data = {'actual': test, 'prediction': pred, 'diff': test-pred}\n",
    "pred_df = pd.DataFrame(data)\n",
    "pred_df['upper'] = pred_df['prediction'] + 1.96*pred_df['diff']\n",
    "pred_df['lower'] = pred_df['prediction'] - 1.96*pred_df['diff']\n",
    "pred_df"
   ]
  },
  {
   "cell_type": "code",
   "execution_count": 25,
   "metadata": {},
   "outputs": [
    {
     "data": {
      "image/png": "[encoded data removed]",
      "text/plain": [
       "<Figure size 720x432 with 1 Axes>"
      ]
     },
     "metadata": {
      "needs_background": "light"
     },
     "output_type": "display_data"
    }
   ],
   "source": [
    "plt.figure(figsize=(10,6))\n",
    "plt.rcParams.update({'font.size': 12})\n",
    "plt.plot(np.arange(len(train), len(train)+len(pred)), pred, '--', label='forecast', linewidth=3.5)\n",
    "plt.plot(np.arange(0, len(x)), x, label='actual')\n",
    "plt.xlabel('day')\n",
    "plt.ylabel('no. of deaths')\n",
    "plt.legend()\n",
    "plt.show()"
   ]
  },
  {
   "cell_type": "markdown",
   "metadata": {},
   "source": [
    "### Forecast a certain number of days at once"
   ]
  },
  {
   "cell_type": "code",
   "execution_count": 26,
   "metadata": {},
   "outputs": [],
   "source": [
    "x = deaths_df['total_deaths']\n",
    "\n",
    "def split_data(split_size):\n",
    "    size = int(len(x) * split_size)\n",
    "    train, test = x[0:size], x[size:len(x)]\n",
    "    print(train.shape, test.shape)\n",
    "    return train, test\n",
    "\n",
    "def arima(train, test):\n",
    "    model = ARIMA(train, order=(3,1,0))\n",
    "    model_fit = model.fit()\n",
    "    output = model_fit.forecast(steps=len(test))\n",
    "    return output\n",
    "\n",
    "def plot_pred(train, output, title):\n",
    "    plt.figure(figsize=(8,5))\n",
    "    plt.rcParams.update({'font.size': 12})\n",
    "    plt.plot(np.arange(len(train), len(train)+len(output)), output, '--', label='forecast', linewidth=3)\n",
    "    plt.plot(np.arange(0, len(x)), x, label='actual')\n",
    "    plt.xlabel('day')\n",
    "    plt.ylabel('no. of deaths')\n",
    "    plt.title(title)\n",
    "    plt.legend()\n",
    "    plt.show()"
   ]
  },
  {
   "cell_type": "code",
   "execution_count": 27,
   "metadata": {},
   "outputs": [
    {
     "name": "stdout",
     "output_type": "stream",
     "text": [
      "(197,) (132,)\n",
      "(230,) (99,)\n",
      "(263,) (66,)\n",
      "(296,) (33,)\n",
      "(312,) (17,)\n"
     ]
    }
   ],
   "source": [
    "train1, test1 = split_data(0.6)\n",
    "train2, test2 = split_data(0.7)\n",
    "train3, test3 = split_data(0.8)\n",
    "train4, test4 = split_data(0.9)\n",
    "train5, test5 = split_data(0.95)\n",
    "\n",
    "\n",
    "arima1 = arima(train1, test1)\n",
    "arima2 = arima(train2, test2)\n",
    "arima3 = arima(train3, test3)\n",
    "arima4 = arima(train4, test4)\n",
    "arima5 = arima(train5, test5)"
   ]
  },
  {
   "cell_type": "code",
   "execution_count": 28,
   "metadata": {},
   "outputs": [
    {
     "data": {
      "image/png": "[encoded data removed]",
      "text/plain": [
       "<Figure size 576x360 with 1 Axes>"
      ]
     },
     "metadata": {
      "needs_background": "light"
     },
     "output_type": "display_data"
    },
    {
     "data": {
      "image/png": "[encoded data removed]",
      "text/plain": [
       "<Figure size 576x360 with 1 Axes>"
      ]
     },
     "metadata": {
      "needs_background": "light"
     },
     "output_type": "display_data"
    },
    {
     "data": {
      "image/png": "[encoded data removed]",
      "text/plain": [
       "<Figure size 576x360 with 1 Axes>"
      ]
     },
     "metadata": {
      "needs_background": "light"
     },
     "output_type": "display_data"
    },
    {
     "data": {
      "image/png": "[encoded data removed]",
      "text/plain": [
       "<Figure size 576x360 with 1 Axes>"
      ]
     },
     "metadata": {
      "needs_background": "light"
     },
     "output_type": "display_data"
    },
    {
     "data": {
      "image/png": "[encoded data removed]",
      "text/plain": [
       "<Figure size 576x360 with 1 Axes>"
      ]
     },
     "metadata": {
      "needs_background": "light"
     },
     "output_type": "display_data"
    }
   ],
   "source": [
    "plot_pred(train1, arima1, '60% train')\n",
    "plot_pred(train2, arima2, '70% train')\n",
    "plot_pred(train3, arima3, '80% train')\n",
    "plot_pred(train4, arima4, '90% train')\n",
    "plot_pred(train5, arima5, '95% train')"
   ]
  },
  {
   "cell_type": "code",
   "execution_count": 29,
   "metadata": {},
   "outputs": [
    {
     "name": "stdout",
     "output_type": "stream",
     "text": [
      "mae: 1109.9017433940544\n",
      "rmse: 1416.991412083542\n",
      "r2: 0.6739695861392591\n"
     ]
    }
   ],
   "source": [
    "metrics(test5, arima5)"
   ]
  },
  {
   "cell_type": "markdown",
   "metadata": {},
   "source": [
    "### Forecast the future"
   ]
  },
  {
   "cell_type": "code",
   "execution_count": 30,
   "metadata": {},
   "outputs": [
    {
     "data": {
      "text/html": [
       "<table class=\"simpletable\">\n",
       "<caption>SARIMAX Results</caption>\n",
       "<tr>\n",
       "  <th>Dep. Variable:</th>     <td>total_deaths</td>   <th>  No. Observations:  </th>    <td>329</td>   \n",
       "</tr>\n",
       "<tr>\n",
       "  <th>Model:</th>            <td>ARIMA(3, 1, 0)</td>  <th>  Log Likelihood     </th> <td>-1883.824</td>\n",
       "</tr>\n",
       "<tr>\n",
       "  <th>Date:</th>            <td>Wed, 27 Jan 2021</td> <th>  AIC                </th> <td>3775.647</td> \n",
       "</tr>\n",
       "<tr>\n",
       "  <th>Time:</th>                <td>11:49:21</td>     <th>  BIC                </th> <td>3790.819</td> \n",
       "</tr>\n",
       "<tr>\n",
       "  <th>Sample:</th>                  <td>0</td>        <th>  HQIC               </th> <td>3781.700</td> \n",
       "</tr>\n",
       "<tr>\n",
       "  <th></th>                      <td> - 329</td>      <th>                     </th>     <td> </td>    \n",
       "</tr>\n",
       "<tr>\n",
       "  <th>Covariance Type:</th>        <td>opg</td>       <th>                     </th>     <td> </td>    \n",
       "</tr>\n",
       "</table>\n",
       "<table class=\"simpletable\">\n",
       "<tr>\n",
       "     <td></td>       <th>coef</th>     <th>std err</th>      <th>z</th>      <th>P>|z|</th>  <th>[0.025</th>    <th>0.975]</th>  \n",
       "</tr>\n",
       "<tr>\n",
       "  <th>ar.L1</th>  <td>    0.8202</td> <td>    0.036</td> <td>   22.836</td> <td> 0.000</td> <td>    0.750</td> <td>    0.891</td>\n",
       "</tr>\n",
       "<tr>\n",
       "  <th>ar.L2</th>  <td>   -0.0515</td> <td>    0.038</td> <td>   -1.370</td> <td> 0.171</td> <td>   -0.125</td> <td>    0.022</td>\n",
       "</tr>\n",
       "<tr>\n",
       "  <th>ar.L3</th>  <td>    0.1790</td> <td>    0.026</td> <td>    6.758</td> <td> 0.000</td> <td>    0.127</td> <td>    0.231</td>\n",
       "</tr>\n",
       "<tr>\n",
       "  <th>sigma2</th> <td> 5668.1398</td> <td>  220.556</td> <td>   25.699</td> <td> 0.000</td> <td> 5235.858</td> <td> 6100.421</td>\n",
       "</tr>\n",
       "</table>\n",
       "<table class=\"simpletable\">\n",
       "<tr>\n",
       "  <th>Ljung-Box (Q):</th>          <td>562.50</td> <th>  Jarque-Bera (JB):  </th> <td>788.90</td>\n",
       "</tr>\n",
       "<tr>\n",
       "  <th>Prob(Q):</th>                 <td>0.00</td>  <th>  Prob(JB):          </th>  <td>0.00</td> \n",
       "</tr>\n",
       "<tr>\n",
       "  <th>Heteroskedasticity (H):</th>  <td>16.83</td> <th>  Skew:              </th>  <td>0.82</td> \n",
       "</tr>\n",
       "<tr>\n",
       "  <th>Prob(H) (two-sided):</th>     <td>0.00</td>  <th>  Kurtosis:          </th>  <td>10.42</td>\n",
       "</tr>\n",
       "</table><br/><br/>Warnings:<br/>[1] Covariance matrix calculated using the outer product of gradients (complex-step)."
      ],
      "text/plain": [
       "<class 'statsmodels.iolib.summary.Summary'>\n",
       "\"\"\"\n",
       "                               SARIMAX Results                                \n",
       "==============================================================================\n",
       "Dep. Variable:           total_deaths   No. Observations:                  329\n",
       "Model:                 ARIMA(3, 1, 0)   Log Likelihood               -1883.824\n",
       "Date:                Wed, 27 Jan 2021   AIC                           3775.647\n",
       "Time:                        11:49:21   BIC                           3790.819\n",
       "Sample:                             0   HQIC                          3781.700\n",
       "                                - 329                                         \n",
       "Covariance Type:                  opg                                         \n",
       "==============================================================================\n",
       "                 coef    std err          z      P>|z|      [0.025      0.975]\n",
       "------------------------------------------------------------------------------\n",
       "ar.L1          0.8202      0.036     22.836      0.000       0.750       0.891\n",
       "ar.L2         -0.0515      0.038     -1.370      0.171      -0.125       0.022\n",
       "ar.L3          0.1790      0.026      6.758      0.000       0.127       0.231\n",
       "sigma2      5668.1398    220.556     25.699      0.000    5235.858    6100.421\n",
       "===================================================================================\n",
       "Ljung-Box (Q):                      562.50   Jarque-Bera (JB):               788.90\n",
       "Prob(Q):                              0.00   Prob(JB):                         0.00\n",
       "Heteroskedasticity (H):              16.83   Skew:                             0.82\n",
       "Prob(H) (two-sided):                  0.00   Kurtosis:                        10.42\n",
       "===================================================================================\n",
       "\n",
       "Warnings:\n",
       "[1] Covariance matrix calculated using the outer product of gradients (complex-step).\n",
       "\"\"\""
      ]
     },
     "execution_count": 30,
     "metadata": {},
     "output_type": "execute_result"
    }
   ],
   "source": [
    "# fit model with whole dataset\n",
    "model = ARIMA(deaths_df['total_deaths'], order=(3,1,0))\n",
    "fit = model.fit()\n",
    "pred = fit.forecast(steps=60)\n",
    "fit.summary()"
   ]
  },
  {
   "cell_type": "markdown",
   "metadata": {},
   "source": [
    "residuals = actual - prediction"
   ]
  },
  {
   "cell_type": "code",
   "execution_count": 31,
   "metadata": {},
   "outputs": [
    {
     "data": {
      "image/png": "[encoded data removed]",
      "text/plain": [
       "<Figure size 720x432 with 1 Axes>"
      ]
     },
     "metadata": {
      "needs_background": "light"
     },
     "output_type": "display_data"
    }
   ],
   "source": [
    "plt.figure(figsize=(10,6))\n",
    "plt.rcParams.update({'font.size': 12})\n",
    "plt.plot(np.arange(len(deaths_df), len(deaths_df)+len(pred)), pred, '--', label='forecast')\n",
    "plt.plot(np.arange(0, len(deaths_df)), x, label='actual')\n",
    "plt.xlabel('day')\n",
    "plt.ylabel('no. of deaths')\n",
    "plt.legend()\n",
    "plt.show()"
   ]
  },
  {
   "cell_type": "markdown",
   "metadata": {},
   "source": [
    "Next steps: \n",
    "- modify the model so it can take into account how many people have been vaccinated"
   ]
  },
  {
   "cell_type": "markdown",
   "metadata": {},
   "source": [
    "## County Data"
   ]
  },
  {
   "cell_type": "code",
   "execution_count": 32,
   "metadata": {},
   "outputs": [],
   "source": [
    "# url = 'https://raw.githubusercontent.com/nytimes/covid-19-data/master/us-counties.csv'\n",
    "# url = 'https://data.ca.gov/dataset/590188d5-8545-4c93-a9a0-e230f0db7290/resource/926fd08f-cc91-4828-af38-bd45de97f8c3/download/statewide_cases.csv'\n",
    "# df = pd.read_csv(url)\n",
    "# df.rename(columns={'totalcountconfirmed': 'total_cases', 'totalcountdeaths': 'total_deaths', \n",
    "#                    'newcountconfirmed': 'new_cases', 'newcountdeaths': 'new_deaths'}, inplace=True)\n",
    "# df.head()"
   ]
  },
  {
   "cell_type": "code",
   "execution_count": 33,
   "metadata": {},
   "outputs": [],
   "source": [
    "# def create_county_data(county_name):\n",
    "#     county = df.loc[df['county'] == county_name].reset_index(drop=True)\n",
    "#     county['day'] = np.arange(0, len(county['date']))\n",
    "#     return county\n",
    "\n",
    "# sample = create_county_data('Los Angeles')\n",
    "# sample"
   ]
  },
  {
   "cell_type": "code",
   "execution_count": null,
   "metadata": {},
   "outputs": [],
   "source": []
  }
 ],
 "metadata": {
  "kernelspec": {
   "display_name": "Python 3",
   "language": "python",
   "name": "python3"
  },
  "language_info": {
   "codemirror_mode": {
    "name": "ipython",
    "version": 3
   },
   "file_extension": ".py",
   "mimetype": "text/x-python",
   "name": "python",
   "nbconvert_exporter": "python",
   "pygments_lexer": "ipython3",
   "version": "3.8.3"
  }
 },
 "nbformat": 4,
 "nbformat_minor": 4
}
